

def vif_bar_plot(x, y, df, thresh):
    """
    Returns a list containing a dataframe that includes Variance Inflation Factor (VIF) for each explanatory variable and 
    a bar chart for the VIFs alongside the specified threshold in a multiple linear regression model.
   
    Parameters
    ----------
    x : list
        A list of the explanatory variables.
    y : str
        The response variable
    df : pandas.DataFrame
        A dataframe containing the data.
    thresh : int
        An integer specifying the threshold.

    Returns
    -------
    list
        A list containing a dataframe for VIFs and a bar chart of the VIFs for each explanatory variable alongside the threshold.
    
    Examples
    --------
    >>> from collinearity_tool.collinearity_tool vif_bar_plot
    >>> vif_bar_plot("response", ["exp1", "exp2", "exp3"], data, 5)
    """
    
    


import pandas as pd
import numpy as np
from patsy import dmatrices
from statsmodels.stats.outliers_influence import variance_inflation_factor


iris = pd.read_csv('https://raw.githubusercontent.com/mwaskom/seaborn-data/master/iris.csv')._get_numeric_data()
iris.head()


set(iris.columns.to_list()) - set(["petal_width"])


features = "+".join(set(iris.columns.to_list()) - set(["petal_width"]))


y, X = dmatrices("petal_width ~" + features, iris, return_type = "dataframe")





vif = pd.DataFrame()
vif["VIF Factor"] = [variance_inflation_factor(X.values, i) for i in range(X.shape[1])]
vif["features"] = X.columns


vif


import matplotlib.pyplot as plt


fig = plt.figure()
ax = fig.add_axes([0,0,1,1])

ax.barh(vif["features"], vif["VIF Factor"])
plt.axvline(x = 5, linestyle = "dashed", color = "red")
plt.xlabel("VIF Score")
plt.ylabel("Explanatory Variable")
plt.title("VIF Scores for Each Explanatory Variable in Multiple regression")




measures = [vif, fig]


df, plot = [vif, fig]


plot



